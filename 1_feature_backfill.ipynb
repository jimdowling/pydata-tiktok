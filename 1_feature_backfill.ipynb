{
 "cells": [
  {
   "cell_type": "markdown",
   "id": "66f25309",
   "metadata": {},
   "source": [
    "## <span style='color:#ff5f27'> 📝 Imports"
   ]
  },
  {
   "cell_type": "code",
   "execution_count": 1,
   "id": "e15d0d39",
   "metadata": {},
   "outputs": [],
   "source": [
    "# !pip install -r requirements.txt --quiet"
   ]
  },
  {
   "cell_type": "code",
   "execution_count": 2,
   "id": "a1cd9180",
   "metadata": {},
   "outputs": [],
   "source": [
    "import pandas as pd\n",
    "import numpy as np\n",
    "import great_expectations as ge\n",
    "from great_expectations.core import ExpectationSuite, ExpectationConfiguration\n",
    "\n",
    "from features.users import generate_users\n",
    "from features.videos import generate_video_content\n",
    "from features.interactions import generate_interactions"
   ]
  },
  {
   "cell_type": "markdown",
   "id": "f0e45dfd",
   "metadata": {},
   "source": [
    "## <span style='color:#ff5f27'> ⚙️ Data Generation</span>\n"
   ]
  },
  {
   "cell_type": "markdown",
   "id": "f8fe3158",
   "metadata": {},
   "source": [
    "### <span style='color:#ff5f27'> 👥 Users Data Generation</span>"
   ]
  },
  {
   "cell_type": "code",
   "execution_count": 3,
   "id": "c77734b1",
   "metadata": {},
   "outputs": [
    {
     "data": {
      "text/html": [
       "<div>\n",
       "<style scoped>\n",
       "    .dataframe tbody tr th:only-of-type {\n",
       "        vertical-align: middle;\n",
       "    }\n",
       "\n",
       "    .dataframe tbody tr th {\n",
       "        vertical-align: top;\n",
       "    }\n",
       "\n",
       "    .dataframe thead th {\n",
       "        text-align: right;\n",
       "    }\n",
       "</style>\n",
       "<table border=\"1\" class=\"dataframe\">\n",
       "  <thead>\n",
       "    <tr style=\"text-align: right;\">\n",
       "      <th></th>\n",
       "      <th>user_id</th>\n",
       "      <th>gender</th>\n",
       "      <th>age</th>\n",
       "      <th>country</th>\n",
       "    </tr>\n",
       "  </thead>\n",
       "  <tbody>\n",
       "    <tr>\n",
       "      <th>0</th>\n",
       "      <td>AO292V</td>\n",
       "      <td>Female</td>\n",
       "      <td>68</td>\n",
       "      <td>Estonia</td>\n",
       "    </tr>\n",
       "    <tr>\n",
       "      <th>1</th>\n",
       "      <td>EE477J</td>\n",
       "      <td>Other</td>\n",
       "      <td>20</td>\n",
       "      <td>Panama</td>\n",
       "    </tr>\n",
       "    <tr>\n",
       "      <th>2</th>\n",
       "      <td>TU771Q</td>\n",
       "      <td>Female</td>\n",
       "      <td>83</td>\n",
       "      <td>Guam</td>\n",
       "    </tr>\n",
       "    <tr>\n",
       "      <th>3</th>\n",
       "      <td>TR773B</td>\n",
       "      <td>Male</td>\n",
       "      <td>37</td>\n",
       "      <td>Guatemala</td>\n",
       "    </tr>\n",
       "    <tr>\n",
       "      <th>4</th>\n",
       "      <td>IL923A</td>\n",
       "      <td>Male</td>\n",
       "      <td>45</td>\n",
       "      <td>Aruba</td>\n",
       "    </tr>\n",
       "  </tbody>\n",
       "</table>\n",
       "</div>"
      ],
      "text/plain": [
       "  user_id  gender  age    country\n",
       "0  AO292V  Female   68    Estonia\n",
       "1  EE477J   Other   20     Panama\n",
       "2  TU771Q  Female   83       Guam\n",
       "3  TR773B    Male   37  Guatemala\n",
       "4  IL923A    Male   45      Aruba"
      ]
     },
     "execution_count": 3,
     "metadata": {},
     "output_type": "execute_result"
    }
   ],
   "source": [
    "user_data = generate_users(25_000)\n",
    "\n",
    "data_users_df = pd.DataFrame(user_data)\n",
    "data_users_df.head()"
   ]
  },
  {
   "cell_type": "markdown",
   "id": "3be7e33a",
   "metadata": {},
   "source": [
    "### <span style='color:#ff5f27'> 🎥 Content Data Generation</span>\n"
   ]
  },
  {
   "cell_type": "code",
   "execution_count": 4,
   "id": "86701806",
   "metadata": {},
   "outputs": [
    {
     "data": {
      "text/html": [
       "<div>\n",
       "<style scoped>\n",
       "    .dataframe tbody tr th:only-of-type {\n",
       "        vertical-align: middle;\n",
       "    }\n",
       "\n",
       "    .dataframe tbody tr th {\n",
       "        vertical-align: top;\n",
       "    }\n",
       "\n",
       "    .dataframe thead th {\n",
       "        text-align: right;\n",
       "    }\n",
       "</style>\n",
       "<table border=\"1\" class=\"dataframe\">\n",
       "  <thead>\n",
       "    <tr style=\"text-align: right;\">\n",
       "      <th></th>\n",
       "      <th>video_id</th>\n",
       "      <th>category</th>\n",
       "      <th>views</th>\n",
       "      <th>likes</th>\n",
       "      <th>video_length</th>\n",
       "      <th>upload_date</th>\n",
       "    </tr>\n",
       "  </thead>\n",
       "  <tbody>\n",
       "    <tr>\n",
       "      <th>0</th>\n",
       "      <td>8SX29N</td>\n",
       "      <td>Education</td>\n",
       "      <td>3730</td>\n",
       "      <td>1403</td>\n",
       "      <td>129</td>\n",
       "      <td>2022-04-27</td>\n",
       "    </tr>\n",
       "    <tr>\n",
       "      <th>1</th>\n",
       "      <td>8OJ82V</td>\n",
       "      <td>Cooking</td>\n",
       "      <td>2739</td>\n",
       "      <td>1228</td>\n",
       "      <td>61</td>\n",
       "      <td>2023-02-05</td>\n",
       "    </tr>\n",
       "    <tr>\n",
       "      <th>2</th>\n",
       "      <td>5PA54E</td>\n",
       "      <td>Dance</td>\n",
       "      <td>22669</td>\n",
       "      <td>10155</td>\n",
       "      <td>167</td>\n",
       "      <td>2022-08-27</td>\n",
       "    </tr>\n",
       "    <tr>\n",
       "      <th>3</th>\n",
       "      <td>0MI84G</td>\n",
       "      <td>Sports</td>\n",
       "      <td>270868</td>\n",
       "      <td>209308</td>\n",
       "      <td>21</td>\n",
       "      <td>2023-10-13</td>\n",
       "    </tr>\n",
       "    <tr>\n",
       "      <th>4</th>\n",
       "      <td>4ZY80J</td>\n",
       "      <td>Sports</td>\n",
       "      <td>75019</td>\n",
       "      <td>8839</td>\n",
       "      <td>15</td>\n",
       "      <td>2024-03-16</td>\n",
       "    </tr>\n",
       "  </tbody>\n",
       "</table>\n",
       "</div>"
      ],
      "text/plain": [
       "  video_id   category   views   likes  video_length upload_date\n",
       "0   8SX29N  Education    3730    1403           129  2022-04-27\n",
       "1   8OJ82V    Cooking    2739    1228            61  2023-02-05\n",
       "2   5PA54E      Dance   22669   10155           167  2022-08-27\n",
       "3   0MI84G     Sports  270868  209308            21  2023-10-13\n",
       "4   4ZY80J     Sports   75019    8839            15  2024-03-16"
      ]
     },
     "execution_count": 4,
     "metadata": {},
     "output_type": "execute_result"
    }
   ],
   "source": [
    "# Generate data for 25_000 videos\n",
    "video_data = generate_video_content(25_000, historical=True)\n",
    "\n",
    "data_video_df = pd.DataFrame(video_data)\n",
    "data_video_df.head()"
   ]
  },
  {
   "cell_type": "markdown",
   "id": "47e62f50",
   "metadata": {},
   "source": [
    "### <span style='color:#ff5f27'> 🔗 Interactions Generation</span>\n"
   ]
  },
  {
   "cell_type": "code",
   "execution_count": 5,
   "id": "49e79fe4",
   "metadata": {},
   "outputs": [
    {
     "data": {
      "text/html": [
       "<div>\n",
       "<style scoped>\n",
       "    .dataframe tbody tr th:only-of-type {\n",
       "        vertical-align: middle;\n",
       "    }\n",
       "\n",
       "    .dataframe tbody tr th {\n",
       "        vertical-align: top;\n",
       "    }\n",
       "\n",
       "    .dataframe thead th {\n",
       "        text-align: right;\n",
       "    }\n",
       "</style>\n",
       "<table border=\"1\" class=\"dataframe\">\n",
       "  <thead>\n",
       "    <tr style=\"text-align: right;\">\n",
       "      <th></th>\n",
       "      <th>interaction_id</th>\n",
       "      <th>user_id</th>\n",
       "      <th>video_id</th>\n",
       "      <th>interaction_type</th>\n",
       "      <th>watch_time</th>\n",
       "    </tr>\n",
       "  </thead>\n",
       "  <tbody>\n",
       "    <tr>\n",
       "      <th>0</th>\n",
       "      <td>0659-48-5477</td>\n",
       "      <td>QE013D</td>\n",
       "      <td>4PV70X</td>\n",
       "      <td>skip</td>\n",
       "      <td>122</td>\n",
       "    </tr>\n",
       "    <tr>\n",
       "      <th>1</th>\n",
       "      <td>8684-74-0225</td>\n",
       "      <td>BF245B</td>\n",
       "      <td>6QG89F</td>\n",
       "      <td>skip</td>\n",
       "      <td>30</td>\n",
       "    </tr>\n",
       "    <tr>\n",
       "      <th>2</th>\n",
       "      <td>3216-60-6868</td>\n",
       "      <td>XH279C</td>\n",
       "      <td>7BT49F</td>\n",
       "      <td>skip</td>\n",
       "      <td>91</td>\n",
       "    </tr>\n",
       "    <tr>\n",
       "      <th>3</th>\n",
       "      <td>5613-63-9674</td>\n",
       "      <td>KA693M</td>\n",
       "      <td>7KK05P</td>\n",
       "      <td>skip</td>\n",
       "      <td>26</td>\n",
       "    </tr>\n",
       "    <tr>\n",
       "      <th>4</th>\n",
       "      <td>6335-58-2992</td>\n",
       "      <td>KQ918Z</td>\n",
       "      <td>5DA72W</td>\n",
       "      <td>view</td>\n",
       "      <td>141</td>\n",
       "    </tr>\n",
       "  </tbody>\n",
       "</table>\n",
       "</div>"
      ],
      "text/plain": [
       "  interaction_id user_id video_id interaction_type  watch_time\n",
       "0   0659-48-5477  QE013D   4PV70X             skip         122\n",
       "1   8684-74-0225  BF245B   6QG89F             skip          30\n",
       "2   3216-60-6868  XH279C   7BT49F             skip          91\n",
       "3   5613-63-9674  KA693M   7KK05P             skip          26\n",
       "4   6335-58-2992  KQ918Z   5DA72W             view         141"
      ]
     },
     "execution_count": 5,
     "metadata": {},
     "output_type": "execute_result"
    }
   ],
   "source": [
    "num_interactions = 1_000_000\n",
    "\n",
    "# Generate interactions\n",
    "interactions = generate_interactions(num_interactions, user_data, video_data)\n",
    "\n",
    "data_interactions_df = pd.DataFrame(interactions)\n",
    "data_interactions_df.head()"
   ]
  },
  {
   "cell_type": "markdown",
   "id": "8b6d4dfe",
   "metadata": {},
   "source": [
    "## <span style=\"color:#ff5f27\">👮🏻‍♂️ Great Expectations </span>"
   ]
  },
  {
   "cell_type": "code",
   "execution_count": 6,
   "id": "43878aa8",
   "metadata": {},
   "outputs": [
    {
     "data": {
      "text/plain": [
       "{\"meta\": {}, \"kwargs\": {\"column\": \"gender\", \"value_set\": [\"Male\", \"Female\", \"Other\"]}, \"expectation_type\": \"expect_column_distinct_values_to_be_in_set\"}"
      ]
     },
     "execution_count": 6,
     "metadata": {},
     "output_type": "execute_result"
    }
   ],
   "source": [
    "# Create a Great Expectations DataFrame from the pandas DataFrame\n",
    "ge_users_df = ge.from_pandas(data_users_df)\n",
    "\n",
    "# Initialize the expectation suite\n",
    "expectation_suite_users = ge_users_df.get_expectation_suite()\n",
    "expectation_suite_users.expectation_suite_name = \"user_data_suite\"\n",
    "\n",
    "# Expectation: Age should be between 0 and 120\n",
    "expectation_suite_users.add_expectation(\n",
    "    ExpectationConfiguration(\n",
    "        expectation_type=\"expect_column_values_to_be_between\",\n",
    "        kwargs={\"column\": \"age\", \"min_value\": 12, \"max_value\": 100}\n",
    "    )\n",
    ")\n",
    "\n",
    "# Expectations: Columns should not have null values\n",
    "for column in ge_users_df.columns:\n",
    "    expectation_suite_users.add_expectation(\n",
    "        ExpectationConfiguration(\n",
    "            expectation_type=\"expect_column_values_to_not_be_null\",\n",
    "            kwargs={\"column\": column}\n",
    "        )\n",
    "    )\n",
    "\n",
    "# Expectation: Gender should only contain specific values\n",
    "expectation_suite_users.add_expectation(\n",
    "    ExpectationConfiguration(\n",
    "        expectation_type=\"expect_column_distinct_values_to_be_in_set\",\n",
    "        kwargs={\"column\": \"gender\", \"value_set\": [\"Male\", \"Female\", \"Other\"]}\n",
    "    )\n",
    ")"
   ]
  },
  {
   "cell_type": "code",
   "execution_count": 7,
   "id": "15220f45",
   "metadata": {},
   "outputs": [
    {
     "data": {
      "text/plain": [
       "{\"meta\": {}, \"kwargs\": {\"column\": \"upload_date\"}, \"expectation_type\": \"expect_column_values_to_be_dateutil_parseable\"}"
      ]
     },
     "execution_count": 7,
     "metadata": {},
     "output_type": "execute_result"
    }
   ],
   "source": [
    "# Create a Great Expectations DataFrame from the pandas DataFrame\n",
    "ge_video_df = ge.from_pandas(data_video_df)\n",
    "\n",
    "# Initialize the expectation suite\n",
    "expectation_suite_videos = ge_video_df.get_expectation_suite()\n",
    "expectation_suite_videos.expectation_suite_name = \"video_data_suite\"\n",
    "\n",
    "# Expectation: Views, Likes, and Video Length should be non-negative\n",
    "for column in [\"views\", \"likes\", \"video_length\"]:\n",
    "    expectation_suite_videos.add_expectation(\n",
    "        ExpectationConfiguration(\n",
    "            expectation_type=\"expect_column_values_to_be_between\",\n",
    "            kwargs={\"column\": column, \"min_value\": 0, \"max_value\": None}\n",
    "        )\n",
    "    )\n",
    "\n",
    "# Expectation: Valid date format for upload_date\n",
    "expectation_suite_videos.add_expectation(\n",
    "    ExpectationConfiguration(\n",
    "        expectation_type=\"expect_column_values_to_be_dateutil_parseable\",\n",
    "        kwargs={\"column\": \"upload_date\"}\n",
    "    )\n",
    ")"
   ]
  },
  {
   "cell_type": "code",
   "execution_count": 8,
   "id": "c861a06b",
   "metadata": {},
   "outputs": [
    {
     "data": {
      "text/plain": [
       "{\"meta\": {}, \"kwargs\": {\"column\": \"watch_time\", \"min_value\": 0}, \"expectation_type\": \"expect_column_values_to_be_between\"}"
      ]
     },
     "execution_count": 8,
     "metadata": {},
     "output_type": "execute_result"
    }
   ],
   "source": [
    "# Create a Great Expectations DataFrame from the pandas DataFrame\n",
    "ge_interactions_df = ge.from_pandas(data_interactions_df)\n",
    "\n",
    "# Initialize the expectation suite\n",
    "expectation_suite_interactions = ge_interactions_df.get_expectation_suite()\n",
    "expectation_suite_interactions.expectation_suite_name = \"interactions_data_suite\"\n",
    "\n",
    "# Expectations: Non-null values in all columns\n",
    "for column in ge_interactions_df.columns:\n",
    "    expectation_suite_interactions.add_expectation(\n",
    "        ExpectationConfiguration(\n",
    "            expectation_type=\"expect_column_values_to_not_be_null\",\n",
    "            kwargs={\"column\": column}\n",
    "        )\n",
    "    )\n",
    "\n",
    "# Expectation: Validate interaction types\n",
    "expectation_suite_interactions.add_expectation(\n",
    "    ExpectationConfiguration(\n",
    "        expectation_type=\"expect_column_distinct_values_to_be_in_set\",\n",
    "        kwargs={\n",
    "            \"column\": \"interaction_type\",\n",
    "            \"value_set\": ['like', 'dislike', 'view', 'comment', 'share', 'skip']\n",
    "        }\n",
    "    )\n",
    ")\n",
    "\n",
    "# Expectation: Positive watch time\n",
    "expectation_suite_interactions.add_expectation(\n",
    "    ExpectationConfiguration(\n",
    "        expectation_type=\"expect_column_values_to_be_between\",\n",
    "        kwargs={\"column\": \"watch_time\", \"min_value\": 0}\n",
    "    )\n",
    ")"
   ]
  },
  {
   "cell_type": "markdown",
   "id": "25905fb9",
   "metadata": {},
   "source": [
    "## <span style=\"color:#ff5f27\">🔮 Connect to Hopsworks Feature Store </span>"
   ]
  },
  {
   "cell_type": "code",
   "execution_count": 9,
   "id": "04b0a448",
   "metadata": {},
   "outputs": [
    {
     "name": "stdout",
     "output_type": "stream",
     "text": [
      "Connected. Call `.close()` to terminate connection gracefully.\n",
      "\n",
      "Logged in to project, explore it here https://c.app.hopsworks.ai:443/p/17565\n",
      "Connected. Call `.close()` to terminate connection gracefully.\n"
     ]
    }
   ],
   "source": [
    "import hopsworks\n",
    "\n",
    "project = hopsworks.login()\n",
    "\n",
    "fs = project.get_feature_store()"
   ]
  },
  {
   "cell_type": "markdown",
   "id": "40fa692f",
   "metadata": {},
   "source": [
    "## <span style=\"color:#ff5f27\">🪄 Feature Group Creation </span>\n"
   ]
  },
  {
   "cell_type": "code",
   "execution_count": 10,
   "id": "c8db1067",
   "metadata": {},
   "outputs": [
    {
     "name": "stderr",
     "output_type": "stream",
     "text": [
      "DeprecationWarning: is_sparse is deprecated and will be removed in a future version. Check `isinstance(dtype, pd.SparseDtype)` instead.\n"
     ]
    },
    {
     "name": "stdout",
     "output_type": "stream",
     "text": [
      "Feature Group created successfully, explore it at \n",
      "https://c.app.hopsworks.ai:443/p/17565/fs/17485/fg/737610\n",
      "Validation succeeded.\n",
      "Validation Report saved successfully, explore a summary at https://c.app.hopsworks.ai:443/p/17565/fs/17485/fg/737610\n"
     ]
    },
    {
     "name": "stderr",
     "output_type": "stream",
     "text": [
      "Uploading Dataframe: 100.00% |█████████████████████████████████████████████████████████████████████████| Rows 25000/25000 | Elapsed Time: 00:07 | Remaining Time: 00:00\n"
     ]
    },
    {
     "name": "stdout",
     "output_type": "stream",
     "text": [
      "Launching job: users_1_offline_fg_materialization\n",
      "Job started successfully, you can follow the progress at \n",
      "https://c.app.hopsworks.ai/p/17565/jobs/named/users_1_offline_fg_materialization/executions\n",
      "Done ✅\n"
     ]
    }
   ],
   "source": [
    "users_fg = fs.get_or_create_feature_group(\n",
    "    name=\"users\",\n",
    "    description=\"Users data.\",\n",
    "    version=1,\n",
    "    primary_key=[\"user_id\"],\n",
    "    online_enabled=True,\n",
    "    expectation_suite=expectation_suite_users,\n",
    ")\n",
    "\n",
    "users_fg.insert(data_users_df)\n",
    "print('Done ✅')"
   ]
  },
  {
   "cell_type": "code",
   "execution_count": 11,
   "id": "d59478f7",
   "metadata": {},
   "outputs": [
    {
     "name": "stderr",
     "output_type": "stream",
     "text": [
      "DeprecationWarning: is_sparse is deprecated and will be removed in a future version. Check `isinstance(dtype, pd.SparseDtype)` instead.\n"
     ]
    },
    {
     "name": "stdout",
     "output_type": "stream",
     "text": [
      "Feature Group created successfully, explore it at \n",
      "https://c.app.hopsworks.ai:443/p/17565/fs/17485/fg/735583\n",
      "Validation succeeded.\n",
      "Validation Report saved successfully, explore a summary at https://c.app.hopsworks.ai:443/p/17565/fs/17485/fg/735583\n"
     ]
    },
    {
     "name": "stderr",
     "output_type": "stream",
     "text": [
      "Uploading Dataframe: 100.00% |█████████████████████████████████████████████████████████████████████████| Rows 25000/25000 | Elapsed Time: 00:07 | Remaining Time: 00:00\n"
     ]
    },
    {
     "name": "stdout",
     "output_type": "stream",
     "text": [
      "Launching job: videos_1_offline_fg_materialization\n",
      "Job started successfully, you can follow the progress at \n",
      "https://c.app.hopsworks.ai/p/17565/jobs/named/videos_1_offline_fg_materialization/executions\n",
      "Done ✅\n"
     ]
    }
   ],
   "source": [
    "videos_fg = fs.get_or_create_feature_group(\n",
    "    name=\"videos\",\n",
    "    description=\"Videos data.\",\n",
    "    version=1,\n",
    "    primary_key=[\"video_id\"],\n",
    "    online_enabled=True,\n",
    "    expectation_suite=expectation_suite_videos,\n",
    ")\n",
    "\n",
    "videos_fg.insert(data_video_df)\n",
    "print('Done ✅')"
   ]
  },
  {
   "cell_type": "code",
   "execution_count": 12,
   "id": "ec368d13",
   "metadata": {},
   "outputs": [
    {
     "name": "stdout",
     "output_type": "stream",
     "text": [
      "Feature Group created successfully, explore it at \n",
      "https://c.app.hopsworks.ai:443/p/17565/fs/17485/fg/736588\n",
      "Validation succeeded.\n",
      "Validation Report saved successfully, explore a summary at https://c.app.hopsworks.ai:443/p/17565/fs/17485/fg/736588\n"
     ]
    },
    {
     "name": "stderr",
     "output_type": "stream",
     "text": [
      "Uploading Dataframe: 100.00% |█████████████████████████████████████████████████████████████████████| Rows 1000000/1000000 | Elapsed Time: 01:07 | Remaining Time: 00:00\n"
     ]
    },
    {
     "name": "stdout",
     "output_type": "stream",
     "text": [
      "Launching job: interactions_1_offline_fg_materialization\n",
      "Job started successfully, you can follow the progress at \n",
      "https://c.app.hopsworks.ai/p/17565/jobs/named/interactions_1_offline_fg_materialization/executions\n",
      "Done ✅\n"
     ]
    }
   ],
   "source": [
    "interactions_fg = fs.get_or_create_feature_group(\n",
    "    name=\"interactions\",\n",
    "    description=\"Interactions data.\",\n",
    "    version=1,\n",
    "    primary_key=[\"interaction_id\", \"user_id\", \"video_id\"],\n",
    "    online_enabled=True,\n",
    "    expectation_suite=expectation_suite_interactions,\n",
    ")\n",
    "\n",
    "interactions_fg.insert(data_interactions_df)\n",
    "print('Done ✅')"
   ]
  },
  {
   "cell_type": "markdown",
   "id": "c0765296",
   "metadata": {},
   "source": [
    "## <span style=\"color:#ff5f27\">🪄 Ranking Feature Group </span>\n"
   ]
  },
  {
   "cell_type": "code",
   "execution_count": 13,
   "id": "c8b881d5",
   "metadata": {},
   "outputs": [
    {
     "data": {
      "text/html": [
       "<div>\n",
       "<style scoped>\n",
       "    .dataframe tbody tr th:only-of-type {\n",
       "        vertical-align: middle;\n",
       "    }\n",
       "\n",
       "    .dataframe tbody tr th {\n",
       "        vertical-align: top;\n",
       "    }\n",
       "\n",
       "    .dataframe thead th {\n",
       "        text-align: right;\n",
       "    }\n",
       "</style>\n",
       "<table border=\"1\" class=\"dataframe\">\n",
       "  <thead>\n",
       "    <tr style=\"text-align: right;\">\n",
       "      <th></th>\n",
       "      <th>user_id</th>\n",
       "      <th>video_id</th>\n",
       "      <th>category</th>\n",
       "      <th>views</th>\n",
       "      <th>likes</th>\n",
       "      <th>video_length</th>\n",
       "      <th>upload_date</th>\n",
       "      <th>gender</th>\n",
       "      <th>age</th>\n",
       "      <th>country</th>\n",
       "      <th>label</th>\n",
       "    </tr>\n",
       "  </thead>\n",
       "  <tbody>\n",
       "    <tr>\n",
       "      <th>0</th>\n",
       "      <td>QE013D</td>\n",
       "      <td>4PV70X</td>\n",
       "      <td>Education</td>\n",
       "      <td>118313</td>\n",
       "      <td>29885</td>\n",
       "      <td>122</td>\n",
       "      <td>2023-09-10</td>\n",
       "      <td>Male</td>\n",
       "      <td>83</td>\n",
       "      <td>Macau SAR China</td>\n",
       "      <td>0</td>\n",
       "    </tr>\n",
       "    <tr>\n",
       "      <th>1</th>\n",
       "      <td>QE013D</td>\n",
       "      <td>8OT77Y</td>\n",
       "      <td>Sports</td>\n",
       "      <td>2361</td>\n",
       "      <td>1976</td>\n",
       "      <td>49</td>\n",
       "      <td>2022-05-09</td>\n",
       "      <td>Male</td>\n",
       "      <td>83</td>\n",
       "      <td>Macau SAR China</td>\n",
       "      <td>0</td>\n",
       "    </tr>\n",
       "    <tr>\n",
       "      <th>2</th>\n",
       "      <td>QE013D</td>\n",
       "      <td>0CA11G</td>\n",
       "      <td>Technology</td>\n",
       "      <td>91177</td>\n",
       "      <td>50317</td>\n",
       "      <td>201</td>\n",
       "      <td>2022-11-27</td>\n",
       "      <td>Male</td>\n",
       "      <td>83</td>\n",
       "      <td>Macau SAR China</td>\n",
       "      <td>0</td>\n",
       "    </tr>\n",
       "    <tr>\n",
       "      <th>3</th>\n",
       "      <td>QE013D</td>\n",
       "      <td>0PO32E</td>\n",
       "      <td>Travel</td>\n",
       "      <td>32638</td>\n",
       "      <td>27587</td>\n",
       "      <td>78</td>\n",
       "      <td>2022-06-22</td>\n",
       "      <td>Male</td>\n",
       "      <td>83</td>\n",
       "      <td>Macau SAR China</td>\n",
       "      <td>1</td>\n",
       "    </tr>\n",
       "    <tr>\n",
       "      <th>4</th>\n",
       "      <td>QE013D</td>\n",
       "      <td>7TN04H</td>\n",
       "      <td>Dance</td>\n",
       "      <td>4725</td>\n",
       "      <td>669</td>\n",
       "      <td>15</td>\n",
       "      <td>2022-08-20</td>\n",
       "      <td>Male</td>\n",
       "      <td>83</td>\n",
       "      <td>Macau SAR China</td>\n",
       "      <td>0</td>\n",
       "    </tr>\n",
       "  </tbody>\n",
       "</table>\n",
       "</div>"
      ],
      "text/plain": [
       "  user_id video_id    category   views  likes  video_length upload_date  \\\n",
       "0  QE013D   4PV70X   Education  118313  29885           122  2023-09-10   \n",
       "1  QE013D   8OT77Y      Sports    2361   1976            49  2022-05-09   \n",
       "2  QE013D   0CA11G  Technology   91177  50317           201  2022-11-27   \n",
       "3  QE013D   0PO32E      Travel   32638  27587            78  2022-06-22   \n",
       "4  QE013D   7TN04H       Dance    4725    669            15  2022-08-20   \n",
       "\n",
       "  gender  age          country  label  \n",
       "0   Male   83  Macau SAR China      0  \n",
       "1   Male   83  Macau SAR China      0  \n",
       "2   Male   83  Macau SAR China      0  \n",
       "3   Male   83  Macau SAR China      1  \n",
       "4   Male   83  Macau SAR China      0  "
      ]
     },
     "execution_count": 13,
     "metadata": {},
     "output_type": "execute_result"
    }
   ],
   "source": [
    "video_interactions_df = pd.merge(\n",
    "    data_interactions_df, \n",
    "    data_video_df, \n",
    "    on='video_id', \n",
    "    how='inner',\n",
    ")\n",
    "\n",
    "ranking_df = pd.merge(\n",
    "    video_interactions_df, \n",
    "    data_users_df, \n",
    "    on='user_id', \n",
    "    how='inner',\n",
    ")\n",
    "\n",
    "ranking_df['label'] = np.where(\n",
    "    ranking_df.interaction_type.isin(['view', 'like', 'share', 'comment']), \n",
    "    1, \n",
    "    0,\n",
    ")\n",
    "\n",
    "ranking_df.drop(\n",
    "    ['interaction_id', 'interaction_type', 'watch_time'], \n",
    "    axis=1, \n",
    "    inplace=True,\n",
    ")\n",
    "\n",
    "ranking_df.head()"
   ]
  },
  {
   "cell_type": "code",
   "execution_count": 14,
   "id": "c1be837f",
   "metadata": {},
   "outputs": [
    {
     "name": "stderr",
     "output_type": "stream",
     "text": [
      "DeprecationWarning: is_sparse is deprecated and will be removed in a future version. Check `isinstance(dtype, pd.SparseDtype)` instead.\n"
     ]
    },
    {
     "name": "stdout",
     "output_type": "stream",
     "text": [
      "Feature Group created successfully, explore it at \n",
      "https://c.app.hopsworks.ai:443/p/17565/fs/17485/fg/735584\n"
     ]
    },
    {
     "name": "stderr",
     "output_type": "stream",
     "text": [
      "Uploading Dataframe: 100.00% |█████████████████████████████████████████████████████████████████████| Rows 1002729/1002729 | Elapsed Time: 01:16 | Remaining Time: 00:00\n"
     ]
    },
    {
     "name": "stdout",
     "output_type": "stream",
     "text": [
      "Launching job: ranking_1_offline_fg_materialization\n",
      "Job started successfully, you can follow the progress at \n",
      "https://c.app.hopsworks.ai/p/17565/jobs/named/ranking_1_offline_fg_materialization/executions\n",
      "Done ✅\n"
     ]
    }
   ],
   "source": [
    "ranking_fg = fs.get_or_create_feature_group(\n",
    "    name=\"ranking\",\n",
    "    description=\"Ranking Data.\",\n",
    "    version=1,\n",
    "    primary_key=[\"user_id\", \"video_id\"],\n",
    "    online_enabled=True,\n",
    ")\n",
    "\n",
    "ranking_fg.insert(ranking_df)\n",
    "print('Done ✅')"
   ]
  },
  {
   "cell_type": "markdown",
   "id": "ad63d534",
   "metadata": {},
   "source": [
    "---"
   ]
  }
 ],
 "metadata": {
  "kernelspec": {
   "display_name": "Python 3 (ipykernel)",
   "language": "python",
   "name": "python3"
  },
  "language_info": {
   "codemirror_mode": {
    "name": "ipython",
    "version": 3
   },
   "file_extension": ".py",
   "mimetype": "text/x-python",
   "name": "python",
   "nbconvert_exporter": "python",
   "pygments_lexer": "ipython3",
   "version": "3.10.0"
  }
 },
 "nbformat": 4,
 "nbformat_minor": 5
}
