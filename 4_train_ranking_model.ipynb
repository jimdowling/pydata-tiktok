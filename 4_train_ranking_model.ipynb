{
 "cells": [
  {
   "cell_type": "markdown",
   "id": "c9b82503",
   "metadata": {},
   "source": [
    "## <span style=\"color:#ff5f27\">👨🏻‍🏫 Train Ranking Model </span>\n",
    "\n",
    "In this notebook, you will train a ranking model using gradient boosted trees. "
   ]
  },
  {
   "cell_type": "markdown",
   "id": "a85e3767",
   "metadata": {},
   "source": [
    "## <span style=\"color:#ff5f27\">📝 Imports </span>"
   ]
  },
  {
   "cell_type": "code",
   "execution_count": 1,
   "id": "8502907f",
   "metadata": {},
   "outputs": [],
   "source": [
    "import pandas as pd\n",
    "from catboost import CatBoostClassifier, Pool\n",
    "from sklearn.metrics import classification_report, precision_recall_fscore_support\n",
    "import joblib"
   ]
  },
  {
   "cell_type": "markdown",
   "id": "1373dc92",
   "metadata": {},
   "source": [
    "## <span style=\"color:#ff5f27\">🔮 Connect to Hopsworks Feature Store </span>"
   ]
  },
  {
   "cell_type": "code",
   "execution_count": 2,
   "id": "b3093efd",
   "metadata": {},
   "outputs": [
    {
     "name": "stderr",
     "output_type": "stream",
     "text": [
      "/home/jdowling/anaconda3/envs/pydata/lib/python3.11/site-packages/tqdm/auto.py:21: TqdmWarning: IProgress not found. Please update jupyter and ipywidgets. See https://ipywidgets.readthedocs.io/en/stable/user_install.html\n",
      "  from .autonotebook import tqdm as notebook_tqdm\n"
     ]
    },
    {
     "name": "stdout",
     "output_type": "stream",
     "text": [
      "Connected. Call `.close()` to terminate connection gracefully.\n",
      "\n",
      "Logged in to project, explore it here https://c.app.hopsworks.ai:443/p/398\n",
      "Connected. Call `.close()` to terminate connection gracefully.\n"
     ]
    }
   ],
   "source": [
    "import hopsworks\n",
    "\n",
    "project = hopsworks.login()\n",
    "\n",
    "fs = project.get_feature_store()"
   ]
  },
  {
   "cell_type": "code",
   "execution_count": 3,
   "id": "99520140",
   "metadata": {},
   "outputs": [],
   "source": [
    "users_fg = fs.get_feature_group(\n",
    "    name=\"users\",\n",
    "    version=1,\n",
    ")\n",
    "\n",
    "videos_fg = fs.get_feature_group(\n",
    "    name=\"videos\",\n",
    "    version=1,\n",
    ")\n",
    "\n",
    "rank_fg = fs.get_feature_group(\n",
    "    name=\"ranking\",\n",
    "    version=1,\n",
    ")"
   ]
  },
  {
   "cell_type": "markdown",
   "id": "e31f6c94",
   "metadata": {},
   "source": [
    "## <span style=\"color:#ff5f27\">⚙️ Feature View Creation </span>"
   ]
  },
  {
   "cell_type": "code",
   "execution_count": 4,
   "id": "4f9aecc4",
   "metadata": {},
   "outputs": [
    {
     "name": "stdout",
     "output_type": "stream",
     "text": [
      "Feature view created successfully, explore it at \n",
      "https://c.app.hopsworks.ai:443/p/398/fs/335/fv/users/version/1\n"
     ]
    },
    {
     "data": {
      "text/plain": [
       "<hsfs.feature_view.FeatureView at 0x7efda585f290>"
      ]
     },
     "execution_count": 4,
     "metadata": {},
     "output_type": "execute_result"
    }
   ],
   "source": [
    "# Select features\n",
    "selected_features_customers = users_fg.select_all()\n",
    "\n",
    "fs.get_or_create_feature_view( \n",
    "    name='users',\n",
    "    query=selected_features_customers,\n",
    "    version=1,\n",
    ")"
   ]
  },
  {
   "cell_type": "code",
   "execution_count": 5,
   "id": "ac531433",
   "metadata": {},
   "outputs": [
    {
     "name": "stdout",
     "output_type": "stream",
     "text": [
      "Feature view created successfully, explore it at \n",
      "https://c.app.hopsworks.ai:443/p/398/fs/335/fv/videos/version/1\n"
     ]
    },
    {
     "data": {
      "text/plain": [
       "<hsfs.feature_view.FeatureView at 0x7efda4b14150>"
      ]
     },
     "execution_count": 5,
     "metadata": {},
     "output_type": "execute_result"
    }
   ],
   "source": [
    "# Select features\n",
    "selected_features_articles = videos_fg.select_all()\n",
    "\n",
    "fs.get_or_create_feature_view(\n",
    "    name='videos',\n",
    "    query=selected_features_articles,\n",
    "    version=1,\n",
    ")"
   ]
  },
  {
   "cell_type": "code",
   "execution_count": 6,
   "id": "004ed938",
   "metadata": {},
   "outputs": [
    {
     "name": "stdout",
     "output_type": "stream",
     "text": [
      "Feature view created successfully, explore it at \n",
      "https://c.app.hopsworks.ai:443/p/398/fs/335/fv/ranking/version/1\n"
     ]
    }
   ],
   "source": [
    "# Select features\n",
    "selected_features_ranking = rank_fg.select_except([\"user_id\", \"video_id\"])\n",
    "\n",
    "feature_view_ranking = fs.get_or_create_feature_view(\n",
    "    name='ranking',\n",
    "    query=selected_features_ranking,\n",
    "    labels=[\"label\"],\n",
    "    version=1,\n",
    ")"
   ]
  },
  {
   "cell_type": "markdown",
   "id": "86b78a7d",
   "metadata": {},
   "source": [
    "## <span style=\"color:#ff5f27\">🗄️ Train Data loading </span>"
   ]
  },
  {
   "cell_type": "code",
   "execution_count": 7,
   "id": "46b9a31f",
   "metadata": {},
   "outputs": [
    {
     "name": "stdout",
     "output_type": "stream",
     "text": [
      "Finished: Reading data from Hopsworks, using ArrowFlight (19.09s) \n"
     ]
    },
    {
     "name": "stderr",
     "output_type": "stream",
     "text": [
      "VersionWarning: Incremented version to `1`.\n"
     ]
    },
    {
     "data": {
      "text/html": [
       "<div>\n",
       "<style scoped>\n",
       "    .dataframe tbody tr th:only-of-type {\n",
       "        vertical-align: middle;\n",
       "    }\n",
       "\n",
       "    .dataframe tbody tr th {\n",
       "        vertical-align: top;\n",
       "    }\n",
       "\n",
       "    .dataframe thead th {\n",
       "        text-align: right;\n",
       "    }\n",
       "</style>\n",
       "<table border=\"1\" class=\"dataframe\">\n",
       "  <thead>\n",
       "    <tr style=\"text-align: right;\">\n",
       "      <th></th>\n",
       "      <th>category</th>\n",
       "      <th>views</th>\n",
       "      <th>likes</th>\n",
       "      <th>video_length</th>\n",
       "      <th>upload_date</th>\n",
       "      <th>gender</th>\n",
       "      <th>age</th>\n",
       "      <th>country</th>\n",
       "    </tr>\n",
       "  </thead>\n",
       "  <tbody>\n",
       "    <tr>\n",
       "      <th>0</th>\n",
       "      <td>Entertainment</td>\n",
       "      <td>241125</td>\n",
       "      <td>125268</td>\n",
       "      <td>58</td>\n",
       "      <td>2023-08-25</td>\n",
       "      <td>Female</td>\n",
       "      <td>33</td>\n",
       "      <td>U.S. Outlying Islands</td>\n",
       "    </tr>\n",
       "    <tr>\n",
       "      <th>1</th>\n",
       "      <td>Music</td>\n",
       "      <td>5990</td>\n",
       "      <td>4262</td>\n",
       "      <td>192</td>\n",
       "      <td>2022-10-18</td>\n",
       "      <td>Male</td>\n",
       "      <td>57</td>\n",
       "      <td>Luxembourg</td>\n",
       "    </tr>\n",
       "    <tr>\n",
       "      <th>2</th>\n",
       "      <td>Cooking</td>\n",
       "      <td>3180</td>\n",
       "      <td>1002</td>\n",
       "      <td>40</td>\n",
       "      <td>2023-02-04</td>\n",
       "      <td>Male</td>\n",
       "      <td>41</td>\n",
       "      <td>Jamaica</td>\n",
       "    </tr>\n",
       "  </tbody>\n",
       "</table>\n",
       "</div>"
      ],
      "text/plain": [
       "        category   views   likes  video_length upload_date  gender  age  \\\n",
       "0  Entertainment  241125  125268            58  2023-08-25  Female   33   \n",
       "1          Music    5990    4262           192  2022-10-18    Male   57   \n",
       "2        Cooking    3180    1002            40  2023-02-04    Male   41   \n",
       "\n",
       "                 country  \n",
       "0  U.S. Outlying Islands  \n",
       "1             Luxembourg  \n",
       "2                Jamaica  "
      ]
     },
     "execution_count": 7,
     "metadata": {},
     "output_type": "execute_result"
    }
   ],
   "source": [
    "X_train, X_val, y_train, y_val = feature_view_ranking.train_test_split(\n",
    "    test_size=0.1,\n",
    "    description='Ranking training dataset',\n",
    ")\n",
    "\n",
    "X_train.head(3)"
   ]
  },
  {
   "cell_type": "code",
   "execution_count": 8,
   "id": "17c49a2e",
   "metadata": {},
   "outputs": [
    {
     "data": {
      "text/html": [
       "<div>\n",
       "<style scoped>\n",
       "    .dataframe tbody tr th:only-of-type {\n",
       "        vertical-align: middle;\n",
       "    }\n",
       "\n",
       "    .dataframe tbody tr th {\n",
       "        vertical-align: top;\n",
       "    }\n",
       "\n",
       "    .dataframe thead th {\n",
       "        text-align: right;\n",
       "    }\n",
       "</style>\n",
       "<table border=\"1\" class=\"dataframe\">\n",
       "  <thead>\n",
       "    <tr style=\"text-align: right;\">\n",
       "      <th></th>\n",
       "      <th>label</th>\n",
       "    </tr>\n",
       "  </thead>\n",
       "  <tbody>\n",
       "    <tr>\n",
       "      <th>0</th>\n",
       "      <td>1</td>\n",
       "    </tr>\n",
       "    <tr>\n",
       "      <th>1</th>\n",
       "      <td>0</td>\n",
       "    </tr>\n",
       "    <tr>\n",
       "      <th>2</th>\n",
       "      <td>0</td>\n",
       "    </tr>\n",
       "  </tbody>\n",
       "</table>\n",
       "</div>"
      ],
      "text/plain": [
       "   label\n",
       "0      1\n",
       "1      0\n",
       "2      0"
      ]
     },
     "execution_count": 8,
     "metadata": {},
     "output_type": "execute_result"
    }
   ],
   "source": [
    "y_train.head(3)"
   ]
  },
  {
   "cell_type": "markdown",
   "id": "d6343ad3",
   "metadata": {},
   "source": [
    "## <span style=\"color:#ff5f27\">🏃🏻‍♂️ Model Training </span>\n",
    "\n",
    "Let's train a model."
   ]
  },
  {
   "cell_type": "code",
   "execution_count": 9,
   "id": "1e688066",
   "metadata": {},
   "outputs": [
    {
     "name": "stdout",
     "output_type": "stream",
     "text": [
      "0:\tlearn: 0.6048009\ttest: 0.6050235\tbest: 0.6050235 (0)\ttotal: 195ms\tremaining: 19.3s\n",
      "1:\tlearn: 0.5468945\ttest: 0.5472990\tbest: 0.5472990 (1)\ttotal: 328ms\tremaining: 16.1s\n",
      "2:\tlearn: 0.5077420\ttest: 0.5082995\tbest: 0.5082995 (2)\ttotal: 515ms\tremaining: 16.6s\n",
      "3:\tlearn: 0.4808692\ttest: 0.4815537\tbest: 0.4815537 (3)\ttotal: 563ms\tremaining: 13.5s\n",
      "4:\tlearn: 0.4623195\ttest: 0.4631163\tbest: 0.4631163 (4)\ttotal: 688ms\tremaining: 13.1s\n",
      "5:\tlearn: 0.4495122\ttest: 0.4504052\tbest: 0.4504052 (5)\ttotal: 745ms\tremaining: 11.7s\n",
      "6:\tlearn: 0.4406975\ttest: 0.4416729\tbest: 0.4416729 (6)\ttotal: 782ms\tremaining: 10.4s\n",
      "7:\tlearn: 0.4346626\ttest: 0.4357079\tbest: 0.4357079 (7)\ttotal: 838ms\tremaining: 9.63s\n",
      "8:\tlearn: 0.4305576\ttest: 0.4316620\tbest: 0.4316620 (8)\ttotal: 871ms\tremaining: 8.81s\n",
      "9:\tlearn: 0.4277847\ttest: 0.4289386\tbest: 0.4289386 (9)\ttotal: 902ms\tremaining: 8.11s\n",
      "10:\tlearn: 0.4259234\ttest: 0.4271217\tbest: 0.4271217 (10)\ttotal: 954ms\tremaining: 7.72s\n",
      "11:\tlearn: 0.4246832\ttest: 0.4259156\tbest: 0.4259156 (11)\ttotal: 995ms\tremaining: 7.3s\n",
      "12:\tlearn: 0.4238619\ttest: 0.4251228\tbest: 0.4251228 (12)\ttotal: 1.03s\tremaining: 6.91s\n",
      "13:\tlearn: 0.4233210\ttest: 0.4246052\tbest: 0.4246052 (13)\ttotal: 1.07s\tremaining: 6.6s\n",
      "14:\tlearn: 0.4229662\ttest: 0.4242697\tbest: 0.4242697 (14)\ttotal: 1.11s\tremaining: 6.32s\n",
      "15:\tlearn: 0.4227343\ttest: 0.4240542\tbest: 0.4240542 (15)\ttotal: 1.16s\tremaining: 6.09s\n",
      "16:\tlearn: 0.4225817\ttest: 0.4239145\tbest: 0.4239145 (16)\ttotal: 1.28s\tremaining: 6.24s\n",
      "17:\tlearn: 0.4224839\ttest: 0.4238269\tbest: 0.4238269 (17)\ttotal: 1.34s\tremaining: 6.11s\n",
      "18:\tlearn: 0.4224201\ttest: 0.4237716\tbest: 0.4237716 (18)\ttotal: 1.48s\tremaining: 6.33s\n",
      "19:\tlearn: 0.4223791\ttest: 0.4237373\tbest: 0.4237373 (19)\ttotal: 1.55s\tremaining: 6.19s\n",
      "20:\tlearn: 0.4223528\ttest: 0.4237163\tbest: 0.4237163 (20)\ttotal: 1.64s\tremaining: 6.16s\n",
      "21:\tlearn: 0.4223356\ttest: 0.4237036\tbest: 0.4237036 (21)\ttotal: 1.72s\tremaining: 6.08s\n",
      "22:\tlearn: 0.4223246\ttest: 0.4236965\tbest: 0.4236965 (22)\ttotal: 1.79s\tremaining: 5.98s\n",
      "23:\tlearn: 0.4223176\ttest: 0.4236923\tbest: 0.4236923 (23)\ttotal: 1.82s\tremaining: 5.78s\n",
      "24:\tlearn: 0.4223131\ttest: 0.4236898\tbest: 0.4236898 (24)\ttotal: 1.87s\tremaining: 5.61s\n",
      "25:\tlearn: 0.4223084\ttest: 0.4236891\tbest: 0.4236891 (25)\ttotal: 2s\tremaining: 5.7s\n",
      "26:\tlearn: 0.4223060\ttest: 0.4236885\tbest: 0.4236885 (26)\ttotal: 2.07s\tremaining: 5.59s\n",
      "27:\tlearn: 0.4223041\ttest: 0.4236885\tbest: 0.4236885 (27)\ttotal: 2.12s\tremaining: 5.46s\n",
      "28:\tlearn: 0.4223033\ttest: 0.4236887\tbest: 0.4236885 (27)\ttotal: 2.16s\tremaining: 5.28s\n",
      "29:\tlearn: 0.4223028\ttest: 0.4236890\tbest: 0.4236885 (27)\ttotal: 2.21s\tremaining: 5.15s\n",
      "30:\tlearn: 0.4222968\ttest: 0.4236889\tbest: 0.4236885 (27)\ttotal: 2.33s\tremaining: 5.2s\n",
      "31:\tlearn: 0.4222848\ttest: 0.4236918\tbest: 0.4236885 (27)\ttotal: 2.52s\tremaining: 5.36s\n",
      "32:\tlearn: 0.4222847\ttest: 0.4236920\tbest: 0.4236885 (27)\ttotal: 2.6s\tremaining: 5.28s\n",
      "Stopped by overfitting detector  (5 iterations wait)\n",
      "\n",
      "bestTest = 0.4236885146\n",
      "bestIteration = 27\n",
      "\n",
      "Shrink model to first 28 iterations.\n"
     ]
    },
    {
     "data": {
      "text/plain": [
       "<catboost.core.CatBoostClassifier at 0x7efda4b5a350>"
      ]
     },
     "execution_count": 9,
     "metadata": {},
     "output_type": "execute_result"
    }
   ],
   "source": [
    "cat_features = list(\n",
    "    X_train.select_dtypes(include=['string', 'object']).columns\n",
    ")\n",
    "\n",
    "pool_train = Pool(X_train, y_train, cat_features=cat_features)\n",
    "pool_val = Pool(X_val, y_val, cat_features=cat_features)\n",
    "\n",
    "model = CatBoostClassifier(\n",
    "    learning_rate=0.2,\n",
    "    iterations=100,\n",
    "    depth=10,\n",
    "    scale_pos_weight=10,\n",
    "    early_stopping_rounds=5,\n",
    "    use_best_model=True,\n",
    ")\n",
    "\n",
    "model.fit(\n",
    "    pool_train, \n",
    "    eval_set=pool_val,\n",
    ")"
   ]
  },
  {
   "cell_type": "markdown",
   "id": "16860b8c",
   "metadata": {},
   "source": [
    "## <span style=\"color:#ff5f27\">👮🏻‍♂️ Model Validation </span>\n",
    "\n",
    "Next, you'll evaluate how well the model performs on the validation data."
   ]
  },
  {
   "cell_type": "code",
   "execution_count": 10,
   "id": "de19183d",
   "metadata": {},
   "outputs": [
    {
     "name": "stdout",
     "output_type": "stream",
     "text": [
      "              precision    recall  f1-score   support\n",
      "\n",
      "           0       0.00      0.00      0.00     63877\n",
      "           1       0.36      1.00      0.53     36037\n",
      "\n",
      "    accuracy                           0.36     99914\n",
      "   macro avg       0.18      0.50      0.27     99914\n",
      "weighted avg       0.13      0.36      0.19     99914\n",
      "\n"
     ]
    },
    {
     "name": "stderr",
     "output_type": "stream",
     "text": [
      "UndefinedMetricWarning: Precision and F-score are ill-defined and being set to 0.0 in labels with no predicted samples. Use `zero_division` parameter to control this behavior.\n",
      "UndefinedMetricWarning: Precision and F-score are ill-defined and being set to 0.0 in labels with no predicted samples. Use `zero_division` parameter to control this behavior.\n",
      "UndefinedMetricWarning: Precision and F-score are ill-defined and being set to 0.0 in labels with no predicted samples. Use `zero_division` parameter to control this behavior.\n"
     ]
    }
   ],
   "source": [
    "preds = model.predict(pool_val)\n",
    "\n",
    "precision, recall, fscore, _ = precision_recall_fscore_support(y_val, preds, average=\"binary\")\n",
    "\n",
    "metrics = {\n",
    "    \"precision\" : precision,\n",
    "    \"recall\" : recall,\n",
    "    \"fscore\" : fscore,\n",
    "}\n",
    "print(classification_report(y_val, preds))"
   ]
  },
  {
   "cell_type": "code",
   "execution_count": 11,
   "id": "0d591d0a",
   "metadata": {},
   "outputs": [
    {
     "data": {
      "text/plain": [
       "{'video_length': 21.614086566171583,\n",
       " 'likes': 18.48926306069348,\n",
       " 'category': 17.317338298151636,\n",
       " 'age': 11.869562955866614,\n",
       " 'views': 11.271824597482247,\n",
       " 'gender': 11.052552315887501,\n",
       " 'country': 8.385372205746922,\n",
       " 'upload_date': 0.0}"
      ]
     },
     "execution_count": 11,
     "metadata": {},
     "output_type": "execute_result"
    }
   ],
   "source": [
    "feat_to_score = {\n",
    "    feature: score \n",
    "    for feature, score \n",
    "    in zip(\n",
    "        X_train.columns, \n",
    "        model.feature_importances_,\n",
    "    )\n",
    "}\n",
    "\n",
    "feat_to_score = dict(\n",
    "    sorted(\n",
    "        feat_to_score.items(),\n",
    "        key=lambda item: item[1],\n",
    "        reverse=True,\n",
    "    )\n",
    ")\n",
    "feat_to_score"
   ]
  },
  {
   "cell_type": "markdown",
   "id": "9cd233b4",
   "metadata": {},
   "source": [
    "It can be seen that the model places high importance on user and item embedding features. Consequently, better trained embeddings could yield a better ranking model.\n",
    "\n",
    "Finally, you'll save your model."
   ]
  },
  {
   "cell_type": "code",
   "execution_count": 12,
   "id": "c15628e6",
   "metadata": {},
   "outputs": [
    {
     "data": {
      "text/plain": [
       "['ranking_model.pkl']"
      ]
     },
     "execution_count": 12,
     "metadata": {},
     "output_type": "execute_result"
    }
   ],
   "source": [
    "joblib.dump(model, 'ranking_model.pkl')"
   ]
  },
  {
   "cell_type": "markdown",
   "id": "148415c2",
   "metadata": {},
   "source": [
    "### <span style=\"color:#ff5f27\">💾  Upload Model to Model Registry </span>\n",
    "\n",
    "You'll upload the model to the Hopsworks Model Registry."
   ]
  },
  {
   "cell_type": "code",
   "execution_count": 13,
   "id": "835f2c6e",
   "metadata": {},
   "outputs": [
    {
     "name": "stdout",
     "output_type": "stream",
     "text": [
      "Connected. Call `.close()` to terminate connection gracefully.\n"
     ]
    }
   ],
   "source": [
    "# Connect to Hopsworks Model Registry\n",
    "mr = project.get_model_registry()"
   ]
  },
  {
   "cell_type": "code",
   "execution_count": 14,
   "id": "6f8168b6",
   "metadata": {},
   "outputs": [
    {
     "name": "stderr",
     "output_type": "stream",
     "text": [
      "Uploading model files (0 dirs, 0 files):  17%|███████████████▏                                                                           | 1/6 [00:00<00:01,  3.12it/s]\n",
      "Uploading: 0.000%|                                                                                                                 | 0/962281 elapsed<00:00 remaining<?\u001b[A\n",
      "Uploading: 100.000%|██████████████████████████████████████████████████████████████████████████████████████████████████████| 962281/962281 elapsed<00:02 remaining<00:00\u001b[A\n",
      "Uploading input_example and model_schema:  33%|██████████████████████████████                                                            | 2/6 [00:02<00:06,  1.55s/it]\n",
      "Uploading: 0.000%|                                                                                                                    | 0/158 elapsed<00:00 remaining<?\u001b[A\n",
      "Uploading: 100.000%|████████████████████████████████████████████████████████████████████████████████████████████████████████████| 158/158 elapsed<00:01 remaining<00:00\u001b[A\n",
      "\n",
      "Uploading: 0.000%|                                                                                                                    | 0/728 elapsed<00:00 remaining<?\u001b[A\n",
      "Uploading: 100.000%|████████████████████████████████████████████████████████████████████████████████████████████████████████████| 728/728 elapsed<00:01 remaining<00:00\u001b[A\n",
      "Model export complete: 100%|█████████████████████████████████████████████████████████████████████████████████████████████████████████████| 6/6 [00:11<00:00,  1.90s/it]"
     ]
    },
    {
     "name": "stdout",
     "output_type": "stream",
     "text": [
      "Model created, explore it at https://c.app.hopsworks.ai:443/p/398/models/ranking_model/1\n"
     ]
    },
    {
     "name": "stderr",
     "output_type": "stream",
     "text": [
      "\n"
     ]
    },
    {
     "data": {
      "text/plain": [
       "Model(name: 'ranking_model', version: 1)"
      ]
     },
     "execution_count": 14,
     "metadata": {},
     "output_type": "execute_result"
    }
   ],
   "source": [
    "from hsml.schema import Schema\n",
    "from hsml.model_schema import ModelSchema\n",
    "\n",
    "input_example = X_train.sample().to_dict(\"records\")\n",
    "input_schema = Schema(X_train)\n",
    "output_schema = Schema(y_train)\n",
    "model_schema = ModelSchema(input_schema, output_schema)\n",
    "\n",
    "ranking_model = mr.python.create_model(\n",
    "    name=\"ranking_model\", \n",
    "    metrics=metrics,\n",
    "    model_schema=model_schema,\n",
    "    input_example=input_example,\n",
    "    description=\"Ranking model that scores item candidates\",\n",
    ")\n",
    "ranking_model.save(\"ranking_model.pkl\")"
   ]
  },
  {
   "cell_type": "markdown",
   "id": "49cdc747",
   "metadata": {},
   "source": [
    "---\n",
    "## <span style=\"color:#ff5f27\">⏩️ Next Steps </span>\n",
    "\n",
    "Now you have trained both a retrieval and a ranking model, which will allow you to generate recommendations for users. In the next notebook, you'll take a look at how you can deploy these models with the `HSML` library."
   ]
  }
 ],
 "metadata": {
  "kernelspec": {
   "display_name": "Python 3 (ipykernel)",
   "language": "python",
   "name": "python3"
  },
  "language_info": {
   "codemirror_mode": {
    "name": "ipython",
    "version": 3
   },
   "file_extension": ".py",
   "mimetype": "text/x-python",
   "name": "python",
   "nbconvert_exporter": "python",
   "pygments_lexer": "ipython3",
   "version": "3.11.9"
  }
 },
 "nbformat": 4,
 "nbformat_minor": 5
}
