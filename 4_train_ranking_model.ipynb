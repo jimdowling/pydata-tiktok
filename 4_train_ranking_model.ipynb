{
 "cells": [
  {
   "cell_type": "markdown",
   "id": "c9b82503",
   "metadata": {},
   "source": [
    "## <span style=\"color:#ff5f27\">👨🏻‍🏫 Train Ranking Model </span>\n",
    "\n",
    "In this notebook, you will train a ranking model using gradient boosted trees. "
   ]
  },
  {
   "cell_type": "markdown",
   "id": "a85e3767",
   "metadata": {},
   "source": [
    "## <span style=\"color:#ff5f27\">📝 Imports </span>"
   ]
  },
  {
   "cell_type": "code",
   "execution_count": 1,
   "id": "8502907f",
   "metadata": {},
   "outputs": [],
   "source": [
    "import pandas as pd\n",
    "from catboost import CatBoostClassifier, Pool\n",
    "from sklearn.metrics import classification_report, precision_recall_fscore_support\n",
    "import joblib"
   ]
  },
  {
   "cell_type": "markdown",
   "id": "1373dc92",
   "metadata": {},
   "source": [
    "## <span style=\"color:#ff5f27\">🔮 Connect to Hopsworks Feature Store </span>"
   ]
  },
  {
   "cell_type": "code",
   "execution_count": 2,
   "id": "b3093efd",
   "metadata": {},
   "outputs": [
    {
     "name": "stderr",
     "output_type": "stream",
     "text": [
      "/home/jdowling/anaconda3/envs/book/lib/python3.10/site-packages/tqdm/auto.py:21: TqdmWarning: IProgress not found. Please update jupyter and ipywidgets. See https://ipywidgets.readthedocs.io/en/stable/user_install.html\n",
      "  from .autonotebook import tqdm as notebook_tqdm\n"
     ]
    },
    {
     "name": "stdout",
     "output_type": "stream",
     "text": [
      "Connected. Call `.close()` to terminate connection gracefully.\n",
      "\n",
      "Logged in to project, explore it here https://c.app.hopsworks.ai:443/p/17565\n",
      "Connected. Call `.close()` to terminate connection gracefully.\n"
     ]
    }
   ],
   "source": [
    "import hopsworks\n",
    "\n",
    "project = hopsworks.login()\n",
    "\n",
    "fs = project.get_feature_store()"
   ]
  },
  {
   "cell_type": "code",
   "execution_count": 3,
   "id": "99520140",
   "metadata": {},
   "outputs": [],
   "source": [
    "users_fg = fs.get_feature_group(\n",
    "    name=\"users\",\n",
    "    version=1,\n",
    ")\n",
    "\n",
    "videos_fg = fs.get_feature_group(\n",
    "    name=\"videos\",\n",
    "    version=1,\n",
    ")\n",
    "\n",
    "rank_fg = fs.get_feature_group(\n",
    "    name=\"ranking\",\n",
    "    version=1,\n",
    ")"
   ]
  },
  {
   "cell_type": "markdown",
   "id": "e31f6c94",
   "metadata": {},
   "source": [
    "## <span style=\"color:#ff5f27\">⚙️ Feature View Creation </span>"
   ]
  },
  {
   "cell_type": "code",
   "execution_count": 4,
   "id": "4f9aecc4",
   "metadata": {},
   "outputs": [
    {
     "name": "stdout",
     "output_type": "stream",
     "text": [
      "Feature view created successfully, explore it at \n",
      "https://c.app.hopsworks.ai:443/p/17565/fs/17485/fv/users/version/1\n"
     ]
    },
    {
     "data": {
      "text/plain": [
       "<hsfs.feature_view.FeatureView at 0x7fb0602779d0>"
      ]
     },
     "execution_count": 4,
     "metadata": {},
     "output_type": "execute_result"
    }
   ],
   "source": [
    "# Select features\n",
    "selected_features_customers = users_fg.select_all()\n",
    "\n",
    "fs.get_or_create_feature_view( \n",
    "    name='users',\n",
    "    query=selected_features_customers,\n",
    "    version=1,\n",
    ")"
   ]
  },
  {
   "cell_type": "code",
   "execution_count": 5,
   "id": "ac531433",
   "metadata": {},
   "outputs": [
    {
     "name": "stdout",
     "output_type": "stream",
     "text": [
      "Feature view created successfully, explore it at \n",
      "https://c.app.hopsworks.ai:443/p/17565/fs/17485/fv/videos/version/1\n"
     ]
    },
    {
     "data": {
      "text/plain": [
       "<hsfs.feature_view.FeatureView at 0x7fb059c32890>"
      ]
     },
     "execution_count": 5,
     "metadata": {},
     "output_type": "execute_result"
    }
   ],
   "source": [
    "# Select features\n",
    "selected_features_articles = videos_fg.select_all()\n",
    "\n",
    "fs.get_or_create_feature_view(\n",
    "    name='videos',\n",
    "    query=selected_features_articles,\n",
    "    version=1,\n",
    ")"
   ]
  },
  {
   "cell_type": "code",
   "execution_count": 6,
   "id": "004ed938",
   "metadata": {},
   "outputs": [
    {
     "name": "stdout",
     "output_type": "stream",
     "text": [
      "Feature view created successfully, explore it at \n",
      "https://c.app.hopsworks.ai:443/p/17565/fs/17485/fv/ranking/version/1\n"
     ]
    }
   ],
   "source": [
    "# Select features\n",
    "selected_features_ranking = rank_fg.select_except([\"user_id\", \"video_id\"])\n",
    "\n",
    "feature_view_ranking = fs.get_or_create_feature_view(\n",
    "    name='ranking',\n",
    "    query=selected_features_ranking,\n",
    "    labels=[\"label\"],\n",
    "    version=1,\n",
    ")"
   ]
  },
  {
   "cell_type": "markdown",
   "id": "86b78a7d",
   "metadata": {},
   "source": [
    "## <span style=\"color:#ff5f27\">🗄️ Train Data loading </span>"
   ]
  },
  {
   "cell_type": "code",
   "execution_count": 7,
   "id": "46b9a31f",
   "metadata": {},
   "outputs": [
    {
     "name": "stderr",
     "output_type": "stream",
     "text": [
      "/arrow/cpp/src/arrow/status.cc:137: DoAction result was not fully consumed: Cancelled: Flight cancelled call, with message: CANCELLED. Detail: Cancelled\n"
     ]
    },
    {
     "name": "stdout",
     "output_type": "stream",
     "text": [
      "Finished: Reading data from Hopsworks, using ArrowFlight (20.78s) \n"
     ]
    },
    {
     "name": "stderr",
     "output_type": "stream",
     "text": [
      "DeprecationWarning: is_sparse is deprecated and will be removed in a future version. Check `isinstance(dtype, pd.SparseDtype)` instead.\n",
      "DeprecationWarning: is_sparse is deprecated and will be removed in a future version. Check `isinstance(dtype, pd.SparseDtype)` instead.\n",
      "VersionWarning: Incremented version to `1`.\n"
     ]
    },
    {
     "data": {
      "text/html": [
       "<div>\n",
       "<style scoped>\n",
       "    .dataframe tbody tr th:only-of-type {\n",
       "        vertical-align: middle;\n",
       "    }\n",
       "\n",
       "    .dataframe tbody tr th {\n",
       "        vertical-align: top;\n",
       "    }\n",
       "\n",
       "    .dataframe thead th {\n",
       "        text-align: right;\n",
       "    }\n",
       "</style>\n",
       "<table border=\"1\" class=\"dataframe\">\n",
       "  <thead>\n",
       "    <tr style=\"text-align: right;\">\n",
       "      <th></th>\n",
       "      <th>category</th>\n",
       "      <th>views</th>\n",
       "      <th>likes</th>\n",
       "      <th>video_length</th>\n",
       "      <th>upload_date</th>\n",
       "      <th>gender</th>\n",
       "      <th>age</th>\n",
       "      <th>country</th>\n",
       "    </tr>\n",
       "  </thead>\n",
       "  <tbody>\n",
       "    <tr>\n",
       "      <th>0</th>\n",
       "      <td>Cooking</td>\n",
       "      <td>119073</td>\n",
       "      <td>7089</td>\n",
       "      <td>97</td>\n",
       "      <td>2023-01-19</td>\n",
       "      <td>Other</td>\n",
       "      <td>25</td>\n",
       "      <td>Algeria</td>\n",
       "    </tr>\n",
       "    <tr>\n",
       "      <th>1</th>\n",
       "      <td>Comedy</td>\n",
       "      <td>60725</td>\n",
       "      <td>4806</td>\n",
       "      <td>227</td>\n",
       "      <td>2023-10-30</td>\n",
       "      <td>Other</td>\n",
       "      <td>81</td>\n",
       "      <td>Zimbabwe</td>\n",
       "    </tr>\n",
       "    <tr>\n",
       "      <th>2</th>\n",
       "      <td>Travel</td>\n",
       "      <td>108802</td>\n",
       "      <td>28057</td>\n",
       "      <td>125</td>\n",
       "      <td>2022-12-10</td>\n",
       "      <td>Other</td>\n",
       "      <td>66</td>\n",
       "      <td>Angola</td>\n",
       "    </tr>\n",
       "  </tbody>\n",
       "</table>\n",
       "</div>"
      ],
      "text/plain": [
       "  category   views  likes  video_length upload_date gender  age   country\n",
       "0  Cooking  119073   7089            97  2023-01-19  Other   25   Algeria\n",
       "1   Comedy   60725   4806           227  2023-10-30  Other   81  Zimbabwe\n",
       "2   Travel  108802  28057           125  2022-12-10  Other   66    Angola"
      ]
     },
     "execution_count": 7,
     "metadata": {},
     "output_type": "execute_result"
    }
   ],
   "source": [
    "X_train, X_val, y_train, y_val = feature_view_ranking.train_test_split(\n",
    "    test_size=0.1,\n",
    "    description='Ranking training dataset',\n",
    ")\n",
    "\n",
    "X_train.head(3)"
   ]
  },
  {
   "cell_type": "code",
   "execution_count": 8,
   "id": "17c49a2e",
   "metadata": {},
   "outputs": [
    {
     "data": {
      "text/html": [
       "<div>\n",
       "<style scoped>\n",
       "    .dataframe tbody tr th:only-of-type {\n",
       "        vertical-align: middle;\n",
       "    }\n",
       "\n",
       "    .dataframe tbody tr th {\n",
       "        vertical-align: top;\n",
       "    }\n",
       "\n",
       "    .dataframe thead th {\n",
       "        text-align: right;\n",
       "    }\n",
       "</style>\n",
       "<table border=\"1\" class=\"dataframe\">\n",
       "  <thead>\n",
       "    <tr style=\"text-align: right;\">\n",
       "      <th></th>\n",
       "      <th>label</th>\n",
       "    </tr>\n",
       "  </thead>\n",
       "  <tbody>\n",
       "    <tr>\n",
       "      <th>0</th>\n",
       "      <td>0</td>\n",
       "    </tr>\n",
       "    <tr>\n",
       "      <th>1</th>\n",
       "      <td>0</td>\n",
       "    </tr>\n",
       "    <tr>\n",
       "      <th>2</th>\n",
       "      <td>0</td>\n",
       "    </tr>\n",
       "  </tbody>\n",
       "</table>\n",
       "</div>"
      ],
      "text/plain": [
       "   label\n",
       "0      0\n",
       "1      0\n",
       "2      0"
      ]
     },
     "execution_count": 8,
     "metadata": {},
     "output_type": "execute_result"
    }
   ],
   "source": [
    "y_train.head(3)"
   ]
  },
  {
   "cell_type": "markdown",
   "id": "d6343ad3",
   "metadata": {},
   "source": [
    "## <span style=\"color:#ff5f27\">🏃🏻‍♂️ Model Training </span>\n",
    "\n",
    "Let's train a model."
   ]
  },
  {
   "cell_type": "code",
   "execution_count": 9,
   "id": "1e688066",
   "metadata": {},
   "outputs": [
    {
     "name": "stdout",
     "output_type": "stream",
     "text": [
      "0:\tlearn: 0.6047280\ttest: 0.6046217\tbest: 0.6046217 (0)\ttotal: 181ms\tremaining: 17.9s\n",
      "1:\tlearn: 0.5467417\ttest: 0.5465388\tbest: 0.5465388 (1)\ttotal: 248ms\tremaining: 12.2s\n",
      "2:\tlearn: 0.5075345\ttest: 0.5072511\tbest: 0.5072511 (2)\ttotal: 362ms\tremaining: 11.7s\n",
      "3:\tlearn: 0.4806208\ttest: 0.4802679\tbest: 0.4802679 (3)\ttotal: 414ms\tremaining: 9.94s\n",
      "4:\tlearn: 0.4620408\ttest: 0.4616289\tbest: 0.4616289 (4)\ttotal: 457ms\tremaining: 8.68s\n",
      "5:\tlearn: 0.4492112\ttest: 0.4487500\tbest: 0.4487500 (5)\ttotal: 511ms\tremaining: 8.01s\n",
      "6:\tlearn: 0.4403797\ttest: 0.4398751\tbest: 0.4398751 (6)\ttotal: 557ms\tremaining: 7.4s\n",
      "7:\tlearn: 0.4343326\ttest: 0.4337914\tbest: 0.4337914 (7)\ttotal: 600ms\tremaining: 6.89s\n",
      "8:\tlearn: 0.4302189\ttest: 0.4296466\tbest: 0.4296466 (8)\ttotal: 635ms\tremaining: 6.42s\n",
      "9:\tlearn: 0.4274398\ttest: 0.4268414\tbest: 0.4268414 (9)\ttotal: 682ms\tremaining: 6.13s\n",
      "10:\tlearn: 0.4255754\ttest: 0.4249552\tbest: 0.4249552 (10)\ttotal: 743ms\tremaining: 6.01s\n",
      "11:\tlearn: 0.4243326\ttest: 0.4236946\tbest: 0.4236946 (11)\ttotal: 804ms\tremaining: 5.9s\n",
      "12:\tlearn: 0.4235089\ttest: 0.4228565\tbest: 0.4228565 (12)\ttotal: 892ms\tremaining: 5.97s\n",
      "13:\tlearn: 0.4229667\ttest: 0.4223020\tbest: 0.4223020 (13)\ttotal: 926ms\tremaining: 5.69s\n",
      "14:\tlearn: 0.4226112\ttest: 0.4219365\tbest: 0.4219365 (14)\ttotal: 959ms\tremaining: 5.43s\n",
      "15:\tlearn: 0.4223791\ttest: 0.4216963\tbest: 0.4216963 (15)\ttotal: 991ms\tremaining: 5.2s\n",
      "16:\tlearn: 0.4222281\ttest: 0.4215387\tbest: 0.4215387 (16)\ttotal: 1.02s\tremaining: 4.99s\n",
      "17:\tlearn: 0.4221296\ttest: 0.4214357\tbest: 0.4214357 (17)\ttotal: 1.07s\tremaining: 4.89s\n",
      "18:\tlearn: 0.4220657\ttest: 0.4213681\tbest: 0.4213681 (18)\ttotal: 1.12s\tremaining: 4.78s\n",
      "19:\tlearn: 0.4220240\ttest: 0.4213237\tbest: 0.4213237 (19)\ttotal: 1.21s\tremaining: 4.83s\n",
      "20:\tlearn: 0.4219976\ttest: 0.4212945\tbest: 0.4212945 (20)\ttotal: 1.24s\tremaining: 4.68s\n",
      "21:\tlearn: 0.4219801\ttest: 0.4212753\tbest: 0.4212753 (21)\ttotal: 1.31s\tremaining: 4.64s\n",
      "22:\tlearn: 0.4219686\ttest: 0.4212629\tbest: 0.4212629 (22)\ttotal: 1.38s\tremaining: 4.61s\n",
      "23:\tlearn: 0.4219574\ttest: 0.4212533\tbest: 0.4212533 (23)\ttotal: 1.5s\tremaining: 4.74s\n",
      "24:\tlearn: 0.4219529\ttest: 0.4212477\tbest: 0.4212477 (24)\ttotal: 1.54s\tremaining: 4.64s\n",
      "25:\tlearn: 0.4219429\ttest: 0.4212443\tbest: 0.4212443 (25)\ttotal: 1.65s\tremaining: 4.7s\n",
      "26:\tlearn: 0.4219342\ttest: 0.4212410\tbest: 0.4212410 (26)\ttotal: 1.79s\tremaining: 4.84s\n",
      "27:\tlearn: 0.4219330\ttest: 0.4212393\tbest: 0.4212393 (27)\ttotal: 1.85s\tremaining: 4.76s\n",
      "28:\tlearn: 0.4219317\ttest: 0.4212384\tbest: 0.4212384 (28)\ttotal: 1.93s\tremaining: 4.73s\n",
      "29:\tlearn: 0.4219313\ttest: 0.4212375\tbest: 0.4212375 (29)\ttotal: 1.97s\tremaining: 4.6s\n",
      "30:\tlearn: 0.4219305\ttest: 0.4212363\tbest: 0.4212363 (30)\ttotal: 2.02s\tremaining: 4.49s\n",
      "31:\tlearn: 0.4219303\ttest: 0.4212359\tbest: 0.4212359 (31)\ttotal: 2.07s\tremaining: 4.4s\n",
      "32:\tlearn: 0.4219302\ttest: 0.4212356\tbest: 0.4212356 (32)\ttotal: 2.12s\tremaining: 4.31s\n",
      "33:\tlearn: 0.4219295\ttest: 0.4212353\tbest: 0.4212353 (33)\ttotal: 2.22s\tremaining: 4.3s\n",
      "34:\tlearn: 0.4219214\ttest: 0.4212363\tbest: 0.4212353 (33)\ttotal: 2.34s\tremaining: 4.35s\n",
      "35:\tlearn: 0.4219064\ttest: 0.4212304\tbest: 0.4212304 (35)\ttotal: 2.48s\tremaining: 4.42s\n",
      "36:\tlearn: 0.4219055\ttest: 0.4212301\tbest: 0.4212301 (36)\ttotal: 2.56s\tremaining: 4.36s\n",
      "37:\tlearn: 0.4218950\ttest: 0.4212272\tbest: 0.4212272 (37)\ttotal: 2.67s\tremaining: 4.36s\n",
      "38:\tlearn: 0.4218945\ttest: 0.4212274\tbest: 0.4212272 (37)\ttotal: 2.72s\tremaining: 4.26s\n",
      "39:\tlearn: 0.4218863\ttest: 0.4212268\tbest: 0.4212268 (39)\ttotal: 2.83s\tremaining: 4.25s\n",
      "40:\tlearn: 0.4218862\ttest: 0.4212267\tbest: 0.4212267 (40)\ttotal: 2.89s\tremaining: 4.16s\n",
      "41:\tlearn: 0.4218862\ttest: 0.4212267\tbest: 0.4212267 (41)\ttotal: 2.93s\tremaining: 4.05s\n",
      "42:\tlearn: 0.4218794\ttest: 0.4212271\tbest: 0.4212267 (41)\ttotal: 3.04s\tremaining: 4.03s\n",
      "43:\tlearn: 0.4218786\ttest: 0.4212271\tbest: 0.4212267 (41)\ttotal: 3.14s\tremaining: 4s\n",
      "44:\tlearn: 0.4218786\ttest: 0.4212271\tbest: 0.4212267 (41)\ttotal: 3.17s\tremaining: 3.88s\n",
      "45:\tlearn: 0.4218770\ttest: 0.4212275\tbest: 0.4212267 (41)\ttotal: 3.26s\tremaining: 3.83s\n",
      "46:\tlearn: 0.4218756\ttest: 0.4212271\tbest: 0.4212267 (41)\ttotal: 3.37s\tremaining: 3.8s\n",
      "Stopped by overfitting detector  (5 iterations wait)\n",
      "\n",
      "bestTest = 0.4212266932\n",
      "bestIteration = 41\n",
      "\n",
      "Shrink model to first 42 iterations.\n"
     ]
    },
    {
     "data": {
      "text/plain": [
       "<catboost.core.CatBoostClassifier at 0x7fb0599e6d70>"
      ]
     },
     "execution_count": 9,
     "metadata": {},
     "output_type": "execute_result"
    }
   ],
   "source": [
    "cat_features = list(\n",
    "    X_train.select_dtypes(include=['string', 'object']).columns\n",
    ")\n",
    "\n",
    "pool_train = Pool(X_train, y_train, cat_features=cat_features)\n",
    "pool_val = Pool(X_val, y_val, cat_features=cat_features)\n",
    "\n",
    "model = CatBoostClassifier(\n",
    "    learning_rate=0.2,\n",
    "    iterations=100,\n",
    "    depth=10,\n",
    "    scale_pos_weight=10,\n",
    "    early_stopping_rounds=5,\n",
    "    use_best_model=True,\n",
    ")\n",
    "\n",
    "model.fit(\n",
    "    pool_train, \n",
    "    eval_set=pool_val,\n",
    ")"
   ]
  },
  {
   "cell_type": "markdown",
   "id": "16860b8c",
   "metadata": {},
   "source": [
    "## <span style=\"color:#ff5f27\">👮🏻‍♂️ Model Validation </span>\n",
    "\n",
    "Next, you'll evaluate how well the model performs on the validation data."
   ]
  },
  {
   "cell_type": "code",
   "execution_count": 10,
   "id": "de19183d",
   "metadata": {},
   "outputs": [
    {
     "name": "stdout",
     "output_type": "stream",
     "text": [
      "              precision    recall  f1-score   support\n",
      "\n",
      "           0       0.00      0.00      0.00     63624\n",
      "           1       0.36      1.00      0.53     36295\n",
      "\n",
      "    accuracy                           0.36     99919\n",
      "   macro avg       0.18      0.50      0.27     99919\n",
      "weighted avg       0.13      0.36      0.19     99919\n",
      "\n"
     ]
    },
    {
     "name": "stderr",
     "output_type": "stream",
     "text": [
      "UndefinedMetricWarning: Precision is ill-defined and being set to 0.0 in labels with no predicted samples. Use `zero_division` parameter to control this behavior.\n",
      "UndefinedMetricWarning: Precision is ill-defined and being set to 0.0 in labels with no predicted samples. Use `zero_division` parameter to control this behavior.\n",
      "UndefinedMetricWarning: Precision is ill-defined and being set to 0.0 in labels with no predicted samples. Use `zero_division` parameter to control this behavior.\n"
     ]
    }
   ],
   "source": [
    "preds = model.predict(pool_val)\n",
    "\n",
    "precision, recall, fscore, _ = precision_recall_fscore_support(y_val, preds, average=\"binary\")\n",
    "\n",
    "metrics = {\n",
    "    \"precision\" : precision,\n",
    "    \"recall\" : recall,\n",
    "    \"fscore\" : fscore,\n",
    "}\n",
    "print(classification_report(y_val, preds))"
   ]
  },
  {
   "cell_type": "code",
   "execution_count": 11,
   "id": "0d591d0a",
   "metadata": {},
   "outputs": [
    {
     "data": {
      "text/plain": [
       "{'upload_date': 20.901916787767,\n",
       " 'age': 17.81349501610978,\n",
       " 'video_length': 14.853599022593444,\n",
       " 'country': 11.669956042301889,\n",
       " 'views': 10.584542237304394,\n",
       " 'likes': 10.551485001202199,\n",
       " 'category': 9.153808255766801,\n",
       " 'gender': 4.471197636954517}"
      ]
     },
     "execution_count": 11,
     "metadata": {},
     "output_type": "execute_result"
    }
   ],
   "source": [
    "feat_to_score = {\n",
    "    feature: score \n",
    "    for feature, score \n",
    "    in zip(\n",
    "        X_train.columns, \n",
    "        model.feature_importances_,\n",
    "    )\n",
    "}\n",
    "\n",
    "feat_to_score = dict(\n",
    "    sorted(\n",
    "        feat_to_score.items(),\n",
    "        key=lambda item: item[1],\n",
    "        reverse=True,\n",
    "    )\n",
    ")\n",
    "feat_to_score"
   ]
  },
  {
   "cell_type": "markdown",
   "id": "9cd233b4",
   "metadata": {},
   "source": [
    "It can be seen that the model places high importance on user and item embedding features. Consequently, better trained embeddings could yield a better ranking model.\n",
    "\n",
    "Finally, you'll save your model."
   ]
  },
  {
   "cell_type": "code",
   "execution_count": 12,
   "id": "c15628e6",
   "metadata": {},
   "outputs": [
    {
     "data": {
      "text/plain": [
       "['ranking_model.pkl']"
      ]
     },
     "execution_count": 12,
     "metadata": {},
     "output_type": "execute_result"
    }
   ],
   "source": [
    "joblib.dump(model, 'ranking_model.pkl')"
   ]
  },
  {
   "cell_type": "markdown",
   "id": "148415c2",
   "metadata": {},
   "source": [
    "### <span style=\"color:#ff5f27\">💾  Upload Model to Model Registry </span>\n",
    "\n",
    "You'll upload the model to the Hopsworks Model Registry."
   ]
  },
  {
   "cell_type": "code",
   "execution_count": 13,
   "id": "835f2c6e",
   "metadata": {},
   "outputs": [
    {
     "name": "stdout",
     "output_type": "stream",
     "text": [
      "Connected. Call `.close()` to terminate connection gracefully.\n"
     ]
    }
   ],
   "source": [
    "# Connect to Hopsworks Model Registry\n",
    "mr = project.get_model_registry()"
   ]
  },
  {
   "cell_type": "code",
   "execution_count": 14,
   "id": "6f8168b6",
   "metadata": {},
   "outputs": [
    {
     "name": "stderr",
     "output_type": "stream",
     "text": [
      "Uploading model files (0 dirs, 0 files):  17%|███████████████▏                                                                           | 1/6 [00:00<00:01,  3.06it/s]\n",
      "Uploading: 0.000%|                                                                                                                | 0/1116190 elapsed<00:00 remaining<?\u001b[A\n",
      "Uploading: 6.058%|██████▎                                                                                                 | 67614/1116190 elapsed<00:01 remaining<00:18\u001b[A\n",
      "Uploading: 100.000%|████████████████████████████████████████████████████████████████████████████████████████████████████| 1116190/1116190 elapsed<00:02 remaining<00:00\u001b[A\n",
      "Uploading input_example and model_schema:  33%|██████████████████████████████                                                            | 2/6 [00:02<00:06,  1.60s/it]\n",
      "Uploading: 0.000%|                                                                                                                    | 0/167 elapsed<00:00 remaining<?\u001b[A\n",
      "Uploading: 100.000%|████████████████████████████████████████████████████████████████████████████████████████████████████████████| 167/167 elapsed<00:01 remaining<00:00\u001b[A\n",
      "\n",
      "Uploading: 0.000%|                                                                                                                    | 0/728 elapsed<00:00 remaining<?\u001b[A\n",
      "Uploading: 100.000%|████████████████████████████████████████████████████████████████████████████████████████████████████████████| 728/728 elapsed<00:01 remaining<00:00\u001b[A\n",
      "Model export complete: 100%|█████████████████████████████████████████████████████████████████████████████████████████████████████████████| 6/6 [00:11<00:00,  1.91s/it]"
     ]
    },
    {
     "name": "stdout",
     "output_type": "stream",
     "text": [
      "Model created, explore it at https://c.app.hopsworks.ai:443/p/17565/models/ranking_model/1\n"
     ]
    },
    {
     "name": "stderr",
     "output_type": "stream",
     "text": [
      "\n"
     ]
    },
    {
     "data": {
      "text/plain": [
       "Model(name: 'ranking_model', version: 1)"
      ]
     },
     "execution_count": 14,
     "metadata": {},
     "output_type": "execute_result"
    }
   ],
   "source": [
    "from hsml.schema import Schema\n",
    "from hsml.model_schema import ModelSchema\n",
    "\n",
    "input_example = X_train.sample().to_dict(\"records\")\n",
    "input_schema = Schema(X_train)\n",
    "output_schema = Schema(y_train)\n",
    "model_schema = ModelSchema(input_schema, output_schema)\n",
    "\n",
    "ranking_model = mr.python.create_model(\n",
    "    name=\"ranking_model\", \n",
    "    metrics=metrics,\n",
    "    model_schema=model_schema,\n",
    "    input_example=input_example,\n",
    "    description=\"Ranking model that scores item candidates\",\n",
    ")\n",
    "ranking_model.save(\"ranking_model.pkl\")"
   ]
  },
  {
   "cell_type": "markdown",
   "id": "49cdc747",
   "metadata": {},
   "source": [
    "---\n",
    "## <span style=\"color:#ff5f27\">⏩️ Next Steps </span>\n",
    "\n",
    "Now you have trained both a retrieval and a ranking model, which will allow you to generate recommendations for users. In the next notebook, you'll take a look at how you can deploy these models with the `HSML` library."
   ]
  }
 ],
 "metadata": {
  "kernelspec": {
   "display_name": "Python 3 (ipykernel)",
   "language": "python",
   "name": "python3"
  },
  "language_info": {
   "codemirror_mode": {
    "name": "ipython",
    "version": 3
   },
   "file_extension": ".py",
   "mimetype": "text/x-python",
   "name": "python",
   "nbconvert_exporter": "python",
   "pygments_lexer": "ipython3",
   "version": "3.10.0"
  }
 },
 "nbformat": 4,
 "nbformat_minor": 5
}
